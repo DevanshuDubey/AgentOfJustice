{
 "cells": [
  {
   "cell_type": "code",
   "execution_count": 1,
   "id": "b2688475",
   "metadata": {},
   "outputs": [
    {
     "name": "stdout",
     "output_type": "stream",
     "text": [
      "Duplicate IDs found:\n",
      "     label  judge_ruling        id\n",
      "34      0           NaN  1979_446\n",
      "35      1           NaN  1979_446\n",
      "41      1           NaN   1958_49\n",
      "48      1           NaN   1958_49\n"
     ]
    }
   ],
   "source": [
    "import pandas as pd\n",
    "\n",
    "df = pd.read_csv('output.csv')\n",
    "\n",
    "# Check for duplicates\n",
    "duplicate_ids = df[df['id'].duplicated(keep=False)]\n",
    "\n",
    "if not duplicate_ids.empty:\n",
    "    print(\"Duplicate IDs found:\\n\", duplicate_ids)\n",
    "else:\n",
    "    print(\"No duplicates.\")\n"
   ]
  },
  {
   "cell_type": "code",
   "execution_count": null,
   "id": "7c3189fe",
   "metadata": {},
   "outputs": [],
   "source": []
  }
 ],
 "metadata": {
  "kernelspec": {
   "display_name": "Python 3",
   "language": "python",
   "name": "python3"
  },
  "language_info": {
   "codemirror_mode": {
    "name": "ipython",
    "version": 3
   },
   "file_extension": ".py",
   "mimetype": "text/x-python",
   "name": "python",
   "nbconvert_exporter": "python",
   "pygments_lexer": "ipython3",
   "version": "3.12.3"
  }
 },
 "nbformat": 4,
 "nbformat_minor": 5
}
